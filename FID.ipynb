{
 "cells": [
  {
   "cell_type": "code",
   "execution_count": 2,
   "id": "c32e72d9",
   "metadata": {},
   "outputs": [],
   "source": [
    "import os\n",
    "from PIL import Image\n",
    "import torch\n",
    "from torchvision import transforms\n",
    "from torchmetrics.image.fid import FrechetInceptionDistance\n",
    "\n",
    "def load_and_transform_image(image_path, transform):\n",
    "    img = Image.open(image_path).convert('RGB')\n",
    "    img = transform(img)\n",
    "    return img\n",
    "\n",
    "def load_first_n_images_from_folder(folder, transform, num_images=1000):\n",
    "    all_filenames = [os.path.join(folder, f) for f in os.listdir(folder) if os.path.isfile(os.path.join(folder, f))]\n",
    "    all_filenames.sort()\n",
    "    selected_filenames = all_filenames[:num_images]\n",
    "    images = [load_and_transform_image(filename, transform) for filename in selected_filenames]\n",
    "    return torch.stack(images)\n",
    "\n",
    "transform = transforms.Compose([\n",
    "    transforms.Resize((299, 299)),\n",
    "    transforms.ToTensor(),\n",
    "    transforms.Lambda(lambda x: (x * 255).byte())\n",
    "])"
   ]
  },
  {
   "cell_type": "code",
   "execution_count": 8,
   "id": "04003dab",
   "metadata": {},
   "outputs": [],
   "source": [
    "# Load real and fake images from folders\n",
    "# real_images_folder = r'C:\\Users\\user\\Desktop\\baza\\healthy'\n",
    "# fake_images_folder = r'C:\\Users\\user\\Desktop\\studia\\magisterka\\ProGAN\\latent_walking'\n",
    "\n",
    "real_images_folder = r'real_images'\n",
    "fake_images_folder = r'fake_images'\n",
    "\n",
    "real_images = load_first_n_images_from_folder(real_images_folder, transform, num_images=800)\n",
    "fake_images = load_first_n_images_from_folder(fake_images_folder, transform, num_images=800)"
   ]
  },
  {
   "cell_type": "code",
   "execution_count": 9,
   "id": "7cd0a739",
   "metadata": {},
   "outputs": [
    {
     "name": "stdout",
     "output_type": "stream",
     "text": [
      "FID score: 0.050199978053569794\n"
     ]
    }
   ],
   "source": [
    "fid = FrechetInceptionDistance(feature=64)\n",
    "fid.update(real_images, real=True)\n",
    "fid.update(fake_images, real=False)\n",
    "fid_score = fid.compute()\n",
    "print(f'FID score: {fid_score}')"
   ]
  },
  {
   "cell_type": "code",
   "execution_count": 10,
   "id": "9f68bc8c",
   "metadata": {},
   "outputs": [
    {
     "name": "stdout",
     "output_type": "stream",
     "text": [
      "FID score: 0.2659568190574646\n"
     ]
    }
   ],
   "source": [
    "fid = FrechetInceptionDistance(feature=192)\n",
    "fid.update(real_images, real=True)\n",
    "fid.update(fake_images, real=False)\n",
    "fid_score = fid.compute()\n",
    "print(f'FID score: {fid_score}')"
   ]
  },
  {
   "cell_type": "code",
   "execution_count": 11,
   "id": "d62bea32",
   "metadata": {},
   "outputs": [
    {
     "name": "stdout",
     "output_type": "stream",
     "text": [
      "FID score: 0.15625116229057312\n"
     ]
    }
   ],
   "source": [
    "fid = FrechetInceptionDistance(feature=768)\n",
    "fid.update(real_images, real=True)\n",
    "fid.update(fake_images, real=False)\n",
    "fid_score = fid.compute()\n",
    "print(f'FID score: {fid_score}')"
   ]
  },
  {
   "cell_type": "code",
   "execution_count": 12,
   "id": "8098c42e",
   "metadata": {},
   "outputs": [
    {
     "name": "stdout",
     "output_type": "stream",
     "text": [
      "FID score: 66.962646484375\n"
     ]
    }
   ],
   "source": [
    "fid = FrechetInceptionDistance(feature=2048)\n",
    "fid.update(real_images, real=True)\n",
    "fid.update(fake_images, real=False)\n",
    "fid_score = fid.compute()\n",
    "print(f'FID score: {fid_score}')"
   ]
  },
  {
   "cell_type": "code",
   "execution_count": null,
   "id": "7b8645db",
   "metadata": {},
   "outputs": [],
   "source": []
  }
 ],
 "metadata": {
  "kernelspec": {
   "display_name": "Python 3 (ipykernel)",
   "language": "python",
   "name": "python3"
  },
  "language_info": {
   "codemirror_mode": {
    "name": "ipython",
    "version": 3
   },
   "file_extension": ".py",
   "mimetype": "text/x-python",
   "name": "python",
   "nbconvert_exporter": "python",
   "pygments_lexer": "ipython3",
   "version": "3.10.13"
  }
 },
 "nbformat": 4,
 "nbformat_minor": 5
}
